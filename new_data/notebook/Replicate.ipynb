{
 "cells": [
  {
   "cell_type": "code",
   "execution_count": 1,
   "metadata": {},
   "outputs": [],
   "source": [
    "import os\n",
    "import shutil"
   ]
  },
  {
   "cell_type": "code",
   "execution_count": 2,
   "metadata": {},
   "outputs": [],
   "source": [
    "src = \"../gui\"\n",
    "dest = \"../final\"\n",
    "f=sorted(os.listdir(src))\n",
    "counter=0\n",
    "for i in range(1000):\n",
    "    for file in f:\n",
    "        path=src+\"/\"+file\n",
    "        cp_to=dest+\"/\"+str(counter)+\"_\"+file\n",
    "        shutil.copy(path,cp_to)\n",
    "    counter+=1"
   ]
  },
  {
   "cell_type": "code",
   "execution_count": 3,
   "metadata": {},
   "outputs": [],
   "source": [
    "src = \"../img\"\n",
    "dest = \"../final\"\n",
    "f=sorted(os.listdir(src))\n",
    "counter=0\n",
    "for i in range(1000):\n",
    "    for file in f:\n",
    "        path=src+\"/\"+file\n",
    "        cp_to=dest+\"/\"+str(counter)+\"_\"+file\n",
    "        shutil.copy(path,cp_to)\n",
    "    counter+=1"
   ]
  },
  {
   "cell_type": "code",
   "execution_count": null,
   "metadata": {},
   "outputs": [],
   "source": []
  }
 ],
 "metadata": {
  "kernelspec": {
   "display_name": "Python 3",
   "language": "python",
   "name": "python3"
  },
  "language_info": {
   "codemirror_mode": {
    "name": "ipython",
    "version": 3
   },
   "file_extension": ".py",
   "mimetype": "text/x-python",
   "name": "python",
   "nbconvert_exporter": "python",
   "pygments_lexer": "ipython3",
   "version": "3.7.6"
  }
 },
 "nbformat": 4,
 "nbformat_minor": 4
}
